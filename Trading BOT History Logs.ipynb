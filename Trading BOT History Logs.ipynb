{
 "cells": [
  {
   "cell_type": "code",
   "execution_count": 1,
   "id": "d1e6e757-3fd1-4040-acd1-94086583c007",
   "metadata": {},
   "outputs": [
    {
     "name": "stdout",
     "output_type": "stream",
     "text": [
      "Requirement already satisfied: alpaca-trade-api in c:\\users\\hiheo\\anaconda3\\lib\\site-packages (3.2.0)Note: you may need to restart the kernel to use updated packages.\n",
      "\n",
      "Collecting yfinance\n",
      "  Downloading yfinance-0.2.63-py2.py3-none-any.whl.metadata (5.8 kB)\n",
      "Requirement already satisfied: pandas in c:\\users\\hiheo\\anaconda3\\lib\\site-packages (2.2.2)\n",
      "Requirement already satisfied: numpy in c:\\users\\hiheo\\anaconda3\\lib\\site-packages (1.26.4)\n",
      "Requirement already satisfied: xgboost in c:\\users\\hiheo\\anaconda3\\lib\\site-packages (3.0.2)\n",
      "Requirement already satisfied: scikit-learn in c:\\users\\hiheo\\anaconda3\\lib\\site-packages (1.4.2)\n",
      "Requirement already satisfied: joblib in c:\\users\\hiheo\\anaconda3\\lib\\site-packages (1.4.2)\n",
      "Requirement already satisfied: requests<3,>2 in c:\\users\\hiheo\\anaconda3\\lib\\site-packages (from alpaca-trade-api) (2.32.2)\n",
      "Requirement already satisfied: urllib3<2,>1.24 in c:\\users\\hiheo\\anaconda3\\lib\\site-packages (from alpaca-trade-api) (1.26.20)\n",
      "Requirement already satisfied: websocket-client<2,>=0.56.0 in c:\\users\\hiheo\\anaconda3\\lib\\site-packages (from alpaca-trade-api) (1.8.0)\n",
      "Requirement already satisfied: websockets<11,>=9.0 in c:\\users\\hiheo\\anaconda3\\lib\\site-packages (from alpaca-trade-api) (10.4)\n",
      "Requirement already satisfied: msgpack==1.0.3 in c:\\users\\hiheo\\anaconda3\\lib\\site-packages (from alpaca-trade-api) (1.0.3)\n",
      "Requirement already satisfied: aiohttp<4,>=3.8.3 in c:\\users\\hiheo\\anaconda3\\lib\\site-packages (from alpaca-trade-api) (3.9.5)\n",
      "Requirement already satisfied: PyYAML==6.0.1 in c:\\users\\hiheo\\anaconda3\\lib\\site-packages (from alpaca-trade-api) (6.0.1)\n",
      "Requirement already satisfied: deprecation==2.1.0 in c:\\users\\hiheo\\anaconda3\\lib\\site-packages (from alpaca-trade-api) (2.1.0)\n",
      "Requirement already satisfied: packaging in c:\\users\\hiheo\\anaconda3\\lib\\site-packages (from deprecation==2.1.0->alpaca-trade-api) (23.2)\n",
      "Collecting multitasking>=0.0.7 (from yfinance)\n",
      "  Downloading multitasking-0.0.11-py3-none-any.whl.metadata (5.5 kB)\n",
      "Requirement already satisfied: platformdirs>=2.0.0 in c:\\users\\hiheo\\anaconda3\\lib\\site-packages (from yfinance) (3.10.0)\n",
      "Requirement already satisfied: pytz>=2022.5 in c:\\users\\hiheo\\anaconda3\\lib\\site-packages (from yfinance) (2024.1)\n",
      "Requirement already satisfied: frozendict>=2.3.4 in c:\\users\\hiheo\\anaconda3\\lib\\site-packages (from yfinance) (2.4.2)\n",
      "Collecting peewee>=3.16.2 (from yfinance)\n",
      "  Downloading peewee-3.18.1.tar.gz (3.0 MB)\n",
      "     ---------------------------------------- 0.0/3.0 MB ? eta -:--:--\n",
      "     ---------------------------------------- 0.0/3.0 MB 1.3 MB/s eta 0:00:03\n",
      "     ------ --------------------------------- 0.5/3.0 MB 5.7 MB/s eta 0:00:01\n",
      "     ------------------------ --------------- 1.9/3.0 MB 14.9 MB/s eta 0:00:01\n",
      "     ---------------------------------------  3.0/3.0 MB 19.2 MB/s eta 0:00:01\n",
      "     ---------------------------------------- 3.0/3.0 MB 17.5 MB/s eta 0:00:00\n",
      "  Installing build dependencies: started\n",
      "  Installing build dependencies: finished with status 'done'\n",
      "  Getting requirements to build wheel: started\n",
      "  Getting requirements to build wheel: finished with status 'done'\n",
      "  Preparing metadata (pyproject.toml): started\n",
      "  Preparing metadata (pyproject.toml): finished with status 'done'\n",
      "Requirement already satisfied: beautifulsoup4>=4.11.1 in c:\\users\\hiheo\\anaconda3\\lib\\site-packages (from yfinance) (4.12.3)\n",
      "Collecting curl_cffi>=0.7 (from yfinance)\n",
      "  Downloading curl_cffi-0.11.4-cp39-abi3-win_amd64.whl.metadata (14 kB)\n",
      "Requirement already satisfied: protobuf>=3.19.0 in c:\\users\\hiheo\\anaconda3\\lib\\site-packages (from yfinance) (3.20.3)\n",
      "INFO: pip is looking at multiple versions of yfinance to determine which version is compatible with other requirements. This could take a while.\n",
      "Collecting yfinance\n",
      "  Downloading yfinance-0.2.62-py2.py3-none-any.whl.metadata (5.8 kB)\n",
      "  Downloading yfinance-0.2.61-py2.py3-none-any.whl.metadata (5.8 kB)\n",
      "  Downloading yfinance-0.2.60-py2.py3-none-any.whl.metadata (5.8 kB)\n",
      "  Downloading yfinance-0.2.59-py2.py3-none-any.whl.metadata (5.7 kB)\n",
      "Collecting protobuf<6,>=5.29.0 (from yfinance)\n",
      "  Downloading protobuf-5.29.5-cp310-abi3-win_amd64.whl.metadata (592 bytes)\n",
      "Collecting yfinance\n",
      "  Downloading yfinance-0.2.58-py2.py3-none-any.whl.metadata (5.5 kB)\n",
      "Requirement already satisfied: python-dateutil>=2.8.2 in c:\\users\\hiheo\\anaconda3\\lib\\site-packages (from pandas) (2.9.0.post0)\n",
      "Requirement already satisfied: tzdata>=2022.7 in c:\\users\\hiheo\\anaconda3\\lib\\site-packages (from pandas) (2023.3)\n",
      "Requirement already satisfied: scipy in c:\\users\\hiheo\\anaconda3\\lib\\site-packages (from xgboost) (1.13.1)\n",
      "Requirement already satisfied: threadpoolctl>=2.0.0 in c:\\users\\hiheo\\anaconda3\\lib\\site-packages (from scikit-learn) (2.2.0)\n",
      "Requirement already satisfied: aiosignal>=1.1.2 in c:\\users\\hiheo\\anaconda3\\lib\\site-packages (from aiohttp<4,>=3.8.3->alpaca-trade-api) (1.2.0)\n",
      "Requirement already satisfied: attrs>=17.3.0 in c:\\users\\hiheo\\anaconda3\\lib\\site-packages (from aiohttp<4,>=3.8.3->alpaca-trade-api) (23.1.0)\n",
      "Requirement already satisfied: frozenlist>=1.1.1 in c:\\users\\hiheo\\anaconda3\\lib\\site-packages (from aiohttp<4,>=3.8.3->alpaca-trade-api) (1.4.0)\n",
      "Requirement already satisfied: multidict<7.0,>=4.5 in c:\\users\\hiheo\\anaconda3\\lib\\site-packages (from aiohttp<4,>=3.8.3->alpaca-trade-api) (6.0.4)\n",
      "Requirement already satisfied: yarl<2.0,>=1.0 in c:\\users\\hiheo\\anaconda3\\lib\\site-packages (from aiohttp<4,>=3.8.3->alpaca-trade-api) (1.9.3)\n",
      "Requirement already satisfied: soupsieve>1.2 in c:\\users\\hiheo\\anaconda3\\lib\\site-packages (from beautifulsoup4>=4.11.1->yfinance) (2.5)\n",
      "Requirement already satisfied: cffi>=1.12.0 in c:\\users\\hiheo\\anaconda3\\lib\\site-packages (from curl_cffi>=0.7->yfinance) (1.16.0)\n",
      "Requirement already satisfied: certifi>=2024.2.2 in c:\\users\\hiheo\\anaconda3\\lib\\site-packages (from curl_cffi>=0.7->yfinance) (2024.6.2)\n",
      "Requirement already satisfied: six>=1.5 in c:\\users\\hiheo\\anaconda3\\lib\\site-packages (from python-dateutil>=2.8.2->pandas) (1.16.0)\n",
      "Requirement already satisfied: charset-normalizer<4,>=2 in c:\\users\\hiheo\\anaconda3\\lib\\site-packages (from requests<3,>2->alpaca-trade-api) (2.0.4)\n",
      "Requirement already satisfied: idna<4,>=2.5 in c:\\users\\hiheo\\anaconda3\\lib\\site-packages (from requests<3,>2->alpaca-trade-api) (3.7)\n",
      "Requirement already satisfied: pycparser in c:\\users\\hiheo\\anaconda3\\lib\\site-packages (from cffi>=1.12.0->curl_cffi>=0.7->yfinance) (2.21)\n",
      "Downloading yfinance-0.2.58-py2.py3-none-any.whl (113 kB)\n",
      "   ---------------------------------------- 0.0/113.7 kB ? eta -:--:--\n",
      "   ---------------------------------------- 113.7/113.7 kB ? eta 0:00:00\n",
      "Downloading curl_cffi-0.11.4-cp39-abi3-win_amd64.whl (1.6 MB)\n",
      "   ---------------------------------------- 0.0/1.6 MB ? eta -:--:--\n",
      "   ---------------------------------------- 1.6/1.6 MB 51.4 MB/s eta 0:00:00\n",
      "Downloading multitasking-0.0.11-py3-none-any.whl (8.5 kB)\n",
      "Building wheels for collected packages: peewee\n",
      "  Building wheel for peewee (pyproject.toml): started\n",
      "  Building wheel for peewee (pyproject.toml): finished with status 'done'\n",
      "  Created wheel for peewee: filename=peewee-3.18.1-py3-none-any.whl size=139097 sha256=6bd0b502fec4312e15ef2b60e6492ef29bbc55bae0f15997b50d8200fd48a058\n",
      "  Stored in directory: c:\\users\\hiheo\\appdata\\local\\pip\\cache\\wheels\\1a\\57\\6a\\bb71346381d0d911cd4ce3026f1fa720da76707e4f01cf27dd\n",
      "Successfully built peewee\n",
      "Installing collected packages: peewee, multitasking, curl_cffi, yfinance\n",
      "Successfully installed curl_cffi-0.11.4 multitasking-0.0.11 peewee-3.18.1 yfinance-0.2.58\n"
     ]
    }
   ],
   "source": [
    "pip install alpaca-trade-api yfinance pandas numpy xgboost scikit-learn joblib"
   ]
  },
  {
   "cell_type": "code",
   "execution_count": 2,
   "id": "e1ad57ec-355e-456f-b02e-d53dd2a9e072",
   "metadata": {},
   "outputs": [
    {
     "name": "stdout",
     "output_type": "stream",
     "text": [
      "YF.download() has changed argument auto_adjust default to True\n"
     ]
    },
    {
     "name": "stderr",
     "output_type": "stream",
     "text": [
      "[*********************100%***********************]  1 of 1 completed\n"
     ]
    },
    {
     "name": "stdout",
     "output_type": "stream",
     "text": [
      "AAPL saved!\n"
     ]
    },
    {
     "name": "stderr",
     "output_type": "stream",
     "text": [
      "[*********************100%***********************]  1 of 1 completed\n"
     ]
    },
    {
     "name": "stdout",
     "output_type": "stream",
     "text": [
      "MSFT saved!\n"
     ]
    },
    {
     "name": "stderr",
     "output_type": "stream",
     "text": [
      "[*********************100%***********************]  1 of 1 completed\n"
     ]
    },
    {
     "name": "stdout",
     "output_type": "stream",
     "text": [
      "TSLA saved!\n"
     ]
    },
    {
     "name": "stderr",
     "output_type": "stream",
     "text": [
      "[*********************100%***********************]  1 of 1 completed\n"
     ]
    },
    {
     "name": "stdout",
     "output_type": "stream",
     "text": [
      "NVDA saved!\n"
     ]
    },
    {
     "name": "stderr",
     "output_type": "stream",
     "text": [
      "[*********************100%***********************]  1 of 1 completed"
     ]
    },
    {
     "name": "stdout",
     "output_type": "stream",
     "text": [
      "GOOG saved!\n"
     ]
    },
    {
     "name": "stderr",
     "output_type": "stream",
     "text": [
      "\n"
     ]
    }
   ],
   "source": [
    "import yfinance as yf\n",
    "\n",
    "symbols = ['AAPL', 'MSFT', 'TSLA', 'NVDA', 'GOOG']\n",
    "\n",
    "for symbol in symbols:\n",
    "    data = yf.download(tickers=symbol, period='7d', interval='5m')  # Last 7 days, 5-min bars\n",
    "    data.to_csv(f'{symbol}_5min.csv')\n",
    "    print(f\"{symbol} saved!\")\n"
   ]
  },
  {
   "cell_type": "code",
   "execution_count": 29,
   "id": "692f2ead-7ba5-4038-ba48-69165d5f882d",
   "metadata": {},
   "outputs": [],
   "source": [
    "import yfinance as yf\n",
    "import pandas as pd\n",
    "import numpy as np\n",
    "from xgboost import XGBClassifier\n",
    "from sklearn.model_selection import train_test_split\n",
    "import datetime\n",
    "\n",
    "SYMBOLS = ['AAPL', 'MSFT', 'TSLA', 'NVDA', 'GOOG']\n",
    "TRADE_QTY = 1\n",
    "STOP_LOSS_PCT = 0.10\n",
    "STARTING_CASH = 100000\n",
    "\n",
    "def download_data(symbol):\n",
    "    end = datetime.datetime.now()\n",
    "    start = end - datetime.timedelta(days=7)\n",
    "    print(f\"Downloading {symbol} data...\")\n",
    "    df = yf.download(symbol, start=start, end=end, interval='5m', progress=False)\n",
    "    df.reset_index(inplace=True)\n",
    "    \n",
    "    # Keep only necessary columns and add symbol column\n",
    "    df = df[['Datetime', 'Open', 'High', 'Low', 'Close', 'Volume']]\n",
    "    df['symbol'] = symbol\n",
    "    return df\n",
    "\n",
    "def add_features(df):\n",
    "    df = df.sort_values('Datetime').reset_index(drop=True)\n",
    "    df['return'] = df['Close'].pct_change(fill_method=None)  # no fill to avoid warning\n",
    "    df['volatility'] = df['return'].rolling(window=5).std()\n",
    "    df['ma'] = df['Close'].rolling(window=5).mean()\n",
    "    df['ma_diff'] = df['Close'] - df['ma']\n",
    "    df['target'] = (df['Close'].shift(-1) > df['Close']).astype(int)\n",
    "    df.dropna(inplace=True)\n",
    "    return df\n",
    "\n",
    "def train_model(df):\n",
    "    df = add_features(df)\n",
    "    X = df[['return', 'volatility', 'ma_diff']]\n",
    "    y = df['target']\n",
    "    X_train, X_test, y_train, y_test = train_test_split(X, y, shuffle=False, test_size=0.2)\n",
    "    model = XGBClassifier(use_label_encoder=False, eval_metric='logloss')\n",
    "    model.fit(X_train, y_train)\n",
    "    acc = model.score(X_test, y_test)\n",
    "    print(f\"Model trained. Accuracy: {acc*100:.2f}%\")\n",
    "    return model\n",
    "\n",
    "def simulate_trading(data, model):\n",
    "    cash = STARTING_CASH\n",
    "    portfolio = {symbol: 0 for symbol in SYMBOLS}\n",
    "    avg_price = {symbol: 0 for symbol in SYMBOLS}\n",
    "    timestamps = sorted(data['Datetime'].unique())\n",
    "\n",
    "    for i, ts in enumerate(timestamps):\n",
    "        print(f\"Time step {i+1}/{len(timestamps)}: {ts}\")\n",
    "        for symbol in SYMBOLS:\n",
    "            df = data[(data['symbol'] == symbol) & (data['Datetime'] <= ts)].copy()\n",
    "            if len(df) < 6:  # need enough data for rolling window\n",
    "                continue\n",
    "            df = add_features(df)\n",
    "            features = df[['return', 'volatility', 'ma_diff']].iloc[[-1]]\n",
    "            pred = model.predict(features)[0]\n",
    "            price = df['Close'].iloc[-1]\n",
    "            qty = portfolio[symbol]\n",
    "\n",
    "            # Stop-loss check\n",
    "            if qty > 0 and price < avg_price[symbol] * (1 - STOP_LOSS_PCT):\n",
    "                cash += qty * price\n",
    "                print(f\"STOP-LOSS SELL {symbol} @ {price:.2f} qty: {qty}\")\n",
    "                portfolio[symbol] = 0\n",
    "                avg_price[symbol] = 0\n",
    "                continue\n",
    "\n",
    "            # Buy signal\n",
    "            if pred == 1 and qty == 0 and cash >= price * TRADE_QTY:\n",
    "                cash -= price * TRADE_QTY\n",
    "                portfolio[symbol] += TRADE_QTY\n",
    "                avg_price[symbol] = price\n",
    "                print(f\"BUY {symbol} @ {price:.2f} qty: {TRADE_QTY}\")\n",
    "\n",
    "            # Sell signal\n",
    "            elif pred == 0 and qty > 0:\n",
    "                cash += qty * price\n",
    "                print(f\"SELL {symbol} @ {price:.2f} qty: {qty}\")\n",
    "                portfolio[symbol] = 0\n",
    "                avg_price[symbol] = 0\n",
    "\n",
    "            else:\n",
    "                print(f\"HOLD {symbol} @ {price:.2f} qty: {qty}\")\n",
    "\n",
    "        print(f\"Cash: {cash:.2f}, Portfolio: {portfolio}\\n\")\n",
    "\n",
    "    # Final portfolio\n"
   ]
  },
  {
   "cell_type": "code",
   "execution_count": null,
   "id": "27dc96e5-516e-4476-a2c5-3f210c827828",
   "metadata": {},
   "outputs": [],
   "source": []
  }
 ],
 "metadata": {
  "kernelspec": {
   "display_name": "Python 3 (ipykernel)",
   "language": "python",
   "name": "python3"
  },
  "language_info": {
   "codemirror_mode": {
    "name": "ipython",
    "version": 3
   },
   "file_extension": ".py",
   "mimetype": "text/x-python",
   "name": "python",
   "nbconvert_exporter": "python",
   "pygments_lexer": "ipython3",
   "version": "3.12.4"
  }
 },
 "nbformat": 4,
 "nbformat_minor": 5
}
